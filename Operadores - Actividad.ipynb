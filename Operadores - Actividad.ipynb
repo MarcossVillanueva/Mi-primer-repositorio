{
 "cells": [
  {
   "cell_type": "markdown",
   "metadata": {},
   "source": [
    "## Operadores - Actividad"
   ]
  },
  {
   "cell_type": "markdown",
   "metadata": {},
   "source": [
    "1) Pedir al usuario dos números y mostrar por pantalla la suma de ellos."
   ]
  },
  {
   "cell_type": "code",
   "execution_count": 1,
   "metadata": {},
   "outputs": [
    {
     "name": "stdout",
     "output_type": "stream",
     "text": [
      "21141\n"
     ]
    }
   ],
   "source": [
    "Dato_1 = input(\"ingrese un numero \")\n",
    "Dato_2 = input(\"ingrese un numero\")\n",
    "\n",
    "print( Dato_1 + Dato_2)"
   ]
  },
  {
   "cell_type": "markdown",
   "metadata": {},
   "source": [
    "2) Calcular el perímetro y área de un rectángulo dada su base y su altura (el usuario debe introducir por teclado los dos valores)."
   ]
  },
  {
   "cell_type": "code",
   "execution_count": 12,
   "metadata": {},
   "outputs": [
    {
     "name": "stdout",
     "output_type": "stream",
     "text": [
      "42 cm es el area del rectangulo \n"
     ]
    }
   ],
   "source": [
    "base= int(input(\"Ingrese un valor para la base del rectangulo en cm\"))\n",
    "altura= int(input(\"Ingrese un valor para la altura del rectangulo en cm\"))\n",
    "\n",
    "area= base * altura \n",
    "print(area, \"cm es el area del rectangulo \")"
   ]
  },
  {
   "cell_type": "markdown",
   "metadata": {},
   "source": [
    "3) Calcular el resultado de elevar un número entero a otro número entero (por ejemplo, 5 elevado a 3 = 5^3 = 5*5*5)."
   ]
  },
  {
   "cell_type": "code",
   "execution_count": 3,
   "metadata": {},
   "outputs": [
    {
     "name": "stdout",
     "output_type": "stream",
     "text": [
      "216\n"
     ]
    }
   ],
   "source": [
    "Numero_a = 6\n",
    "Numero_b = 3\n",
    "print( Numero_a ** Numero_b)"
   ]
  },
  {
   "cell_type": "markdown",
   "metadata": {},
   "source": [
    "4) Escribe un programa que convierta grados Celsius a grados Fahrenheit utilizando la fórmula: **F = (C * 9/5) + 32**"
   ]
  },
  {
   "cell_type": "code",
   "execution_count": 4,
   "metadata": {},
   "outputs": [
    {
     "name": "stdout",
     "output_type": "stream",
     "text": [
      "54  Grados Celsius son 129.2 Grados Farenheit\n"
     ]
    }
   ],
   "source": [
    "Celsius = int(input(\"Ingrese los grados celsius:\"))\n",
    "\n",
    "Fahrenheit = (Celsius * 9/5) + 32\n",
    "\n",
    "print(Celsius, \" Grados Celsius son\", Fahrenheit, \"Grados Farenheit\")"
   ]
  },
  {
   "cell_type": "markdown",
   "metadata": {},
   "source": [
    "5) Pedir al usuario su edad y mostrar por pantalla si es mayor de edad o no. (Mayor de edad >= 18)"
   ]
  },
  {
   "cell_type": "code",
   "execution_count": 6,
   "metadata": {},
   "outputs": [
    {
     "name": "stdout",
     "output_type": "stream",
     "text": [
      "Es mayor de edad?: False\n"
     ]
    }
   ],
   "source": [
    "\n",
    "edad = int(input(\"Ingrese su edad: \"))\n",
    "\n",
    "print(f\"Es mayor de edad?: {edad>=18}\")"
   ]
  },
  {
   "cell_type": "markdown",
   "metadata": {},
   "source": [
    "6) Comprobar si el numero ingresado por el usuario es par o impar."
   ]
  },
  {
   "cell_type": "code",
   "execution_count": 3,
   "metadata": {},
   "outputs": [
    {
     "name": "stdout",
     "output_type": "stream",
     "text": [
      "El numero ingresado es par?: True\n"
     ]
    }
   ],
   "source": [
    "numero= int(input(\"Ingrese un numero\"))\n",
    "print(f\"El numero ingresado es par?: {numero %2 == 0}\")"
   ]
  },
  {
   "cell_type": "markdown",
   "metadata": {},
   "source": [
    "7) Pedir al usuario que ingrese su dirección email y luego mostrar un mensaje indicando si la dirección es válida o no. Una dirección se considerará válida si contiene el símbolo \"@\"."
   ]
  },
  {
   "cell_type": "code",
   "execution_count": 5,
   "metadata": {},
   "outputs": [
    {
     "name": "stdout",
     "output_type": "stream",
     "text": [
      "El email ingresado es correcto? False\n"
     ]
    }
   ],
   "source": [
    "email= input(\"Ingrese su email\")\n",
    "print(f\"El email ingresado es correcto? {\"@\" in email}\")\n"
   ]
  },
  {
   "cell_type": "markdown",
   "metadata": {},
   "source": [
    "8) Dado un número de dos cifras, diseñe un algoritmo que permita obtener el número invertido. Ejemplo, si se introduce 23 que muestre 32. (Recordar que las cadenas pueden tratarse como listas de caracteres)."
   ]
  },
  {
   "cell_type": "code",
   "execution_count": 2,
   "metadata": {},
   "outputs": [
    {
     "name": "stdout",
     "output_type": "stream",
     "text": [
      "Su cadena original es  => 98 \n",
      "su cadena invertida es => 89\n"
     ]
    }
   ],
   "source": [
    "Valor_8 = input(\"ingrese sus valores\")\n",
    "invertida = Valor_8 [::-1]\n",
    "print(\"Su cadena original es  =>\",Valor_8,\"\\nsu cadena invertida es =>\", invertida)"
   ]
  },
  {
   "cell_type": "markdown",
   "metadata": {},
   "source": [
    "9) Crea un programa que pida al usuario dos números y muestre True si ambos son mayores que 10."
   ]
  },
  {
   "cell_type": "code",
   "execution_count": 12,
   "metadata": {},
   "outputs": [
    {
     "name": "stdout",
     "output_type": "stream",
     "text": [
      "Ambos son mayores a 10?: False\n"
     ]
    }
   ],
   "source": [
    "valor_1=int(input(\"ingrese su primer valor\"))\n",
    "valor_2=int(input(\"ingrese su segundo valor\"))\n",
    "print(f\"Ambos son mayores a 10?: {valor_1>10 and valor_2>10}\")\n"
   ]
  },
  {
   "cell_type": "markdown",
   "metadata": {},
   "source": [
    "10) Escribe un programa que verifique si un número ingresado por el usuario es divisible por 3 y por 5."
   ]
  },
  {
   "cell_type": "code",
   "execution_count": 3,
   "metadata": {},
   "outputs": [
    {
     "name": "stdout",
     "output_type": "stream",
     "text": [
      "3 10\n",
      "6 5\n"
     ]
    }
   ],
   "source": [
    "Dato_A = 15 \n",
    "Dato_B = 30\n",
    "Dato_C = 8 \n",
    "\n",
    "print(Dato_A // 5, Dato_B//3)\n",
    "print(Dato_B //5 , Dato_A//3)\n"
   ]
  },
  {
   "cell_type": "markdown",
   "metadata": {},
   "source": [
    "11) Utilizando la información del punto 5, preguntar al usuario si posee carnet de conducir, luego verificar si puede conducir un automóvil."
   ]
  },
  {
   "cell_type": "code",
   "execution_count": 14,
   "metadata": {},
   "outputs": [
    {
     "name": "stdout",
     "output_type": "stream",
     "text": [
      "Posesión de carnet de conducir: no\n",
      "Edad ingresada: 19\n",
      "¿Apto para conducir? -> False\n"
     ]
    }
   ],
   "source": [
    "entrada_edad = input (\"Ingrese su edad. Se verificara su mayoría de edad\")\n",
    "posesión_de_carnet = input (\"¿Posee usted carnet de conducir? Si o No.\")\n",
    "\n",
    "print (\"Posesión de carnet de conducir:\", posesión_de_carnet)\n",
    "print (\"Edad ingresada:\", entrada_edad)\n",
    "print (\"¿Apto para conducir? ->\", int(entrada_edad) >= 18 and posesión_de_carnet == \"SI\")"
   ]
  },
  {
   "cell_type": "markdown",
   "metadata": {},
   "source": [
    "12) Pide al usuario un número y verifica si es positivo y no es mayor que 100."
   ]
  },
  {
   "cell_type": "code",
   "execution_count": 16,
   "metadata": {},
   "outputs": [
    {
     "name": "stdout",
     "output_type": "stream",
     "text": [
      "El numero ingresado es positivo\n"
     ]
    }
   ],
   "source": [
    "num= int(input(\"Ingrese un valor\"))\n",
    "if (num >0) & (num < 100):\n",
    "    print(\"El numero ingresado es positivo\")\n",
    "else:\n",
    "    print(\"El numero ingresado supera el valor estipulado \")"
   ]
  },
  {
   "cell_type": "markdown",
   "metadata": {},
   "source": [
    "13) Crear un programa que valide si un número ingresado por el usuario es par y mayor que 20."
   ]
  },
  {
   "cell_type": "code",
   "execution_count": 17,
   "metadata": {},
   "outputs": [
    {
     "name": "stdout",
     "output_type": "stream",
     "text": [
      "El número es par y mayor a 20?: False\n",
      "Validado Correctamente\n"
     ]
    }
   ],
   "source": [
    "Numero_13= int(input(\"Ingrese un número: \"))\n",
    "print(f\"El número es par y mayor a 20?: {Numero_13%2==0 and Numero_13>20}\")\n",
    "print(\"Validado Correctamente\")"
   ]
  },
  {
   "cell_type": "markdown",
   "metadata": {},
   "source": [
    "14) Dada la variable **numero = 5**, realizar la operación necesaria para que número sea igual a 8. Luego imprimir en pantalla el nuevo valor de número y realizar una nueva operación para que el valor de número sea igual a 4 y mostrar en pantalla el nuevo valor."
   ]
  },
  {
   "cell_type": "code",
   "execution_count": 5,
   "metadata": {},
   "outputs": [
    {
     "name": "stdout",
     "output_type": "stream",
     "text": [
      "8\n",
      "4\n"
     ]
    }
   ],
   "source": [
    "numero=5 \n",
    "print(numero+3) \n",
    "print(numero +3 -4)"
   ]
  },
  {
   "cell_type": "markdown",
   "metadata": {},
   "source": [
    "15) Dadas las variables altura = \"10\" y base = 5, calcular el área de un triángulo y mostrar el resultado en pantalla. ¿Por qué el resultado es un error? ¿Cómo lo corregirías?"
   ]
  },
  {
   "cell_type": "code",
   "execution_count": 19,
   "metadata": {},
   "outputs": [
    {
     "ename": "TypeError",
     "evalue": "unsupported operand type(s) for /: 'str' and 'int'",
     "output_type": "error",
     "traceback": [
      "\u001b[1;31m---------------------------------------------------------------------------\u001b[0m",
      "\u001b[1;31mTypeError\u001b[0m                                 Traceback (most recent call last)",
      "Cell \u001b[1;32mIn[19], line 3\u001b[0m\n\u001b[0;32m      1\u001b[0m altura \u001b[38;5;241m=\u001b[39m \u001b[38;5;124m\"\u001b[39m\u001b[38;5;124m10\u001b[39m\u001b[38;5;124m\"\u001b[39m\n\u001b[0;32m      2\u001b[0m base \u001b[38;5;241m=\u001b[39m \u001b[38;5;241m5\u001b[39m\n\u001b[1;32m----> 3\u001b[0m area \u001b[38;5;241m=\u001b[39m \u001b[43mbase\u001b[49m\u001b[43m \u001b[49m\u001b[38;5;241;43m*\u001b[39;49m\u001b[43m \u001b[49m\u001b[43maltura\u001b[49m\u001b[43m \u001b[49m\u001b[38;5;241;43m*\u001b[39;49m\u001b[38;5;241;43m1\u001b[39;49m\u001b[38;5;241;43m/\u001b[39;49m\u001b[38;5;241;43m2\u001b[39;49m\n\u001b[0;32m      4\u001b[0m \u001b[38;5;28mprint\u001b[39m(\u001b[38;5;124m\"\u001b[39m\u001b[38;5;124mEl error es porque altura en el enunciado esta como String y por ende no se puede realizar una operacion matematica\u001b[39m\u001b[38;5;124m\"\u001b[39m)\n\u001b[0;32m      5\u001b[0m \u001b[38;5;28mprint\u001b[39m(area)\n",
      "\u001b[1;31mTypeError\u001b[0m: unsupported operand type(s) for /: 'str' and 'int'"
     ]
    }
   ],
   "source": [
    "altura = \"10\"\n",
    "base = 5\n",
    "area = base * altura *1/2\n",
    "print(\"El error es porque altura es un dato tipo String y por lo cual no se puede realizar la operacion teniendo un numero entero y un string\")\n",
    "print(area)\n"
   ]
  },
  {
   "cell_type": "markdown",
   "metadata": {},
   "source": [
    "16) Crea un programa que calcule el promedio de tres calificaciones ingresadas por el usuario, y comprobar si el alumno aprobó o no (aprueba con nota mayor a 6)."
   ]
  },
  {
   "cell_type": "code",
   "execution_count": 20,
   "metadata": {},
   "outputs": [
    {
     "name": "stdout",
     "output_type": "stream",
     "text": [
      "El alumno aprobó?: True\n"
     ]
    }
   ],
   "source": [
    "nota1=int(input(\"Ingrese su primer nota: \"))\n",
    "nota2=int(input(\"Ingrese su segunda nota: \"))\n",
    "nota3=int(input(\"Ingrese su tercer nota: \"))\n",
    "print(f\"El alumno aprobó?: {(nota1+nota2+nota3)/3>=6}\")"
   ]
  },
  {
   "cell_type": "markdown",
   "metadata": {},
   "source": [
    "17) Pide al usuario su edad y calcula cuántos días, horas y minutos ha vivido aproximadamente (asumiendo 365 días por año)."
   ]
  },
  {
   "cell_type": "code",
   "execution_count": 23,
   "metadata": {},
   "outputs": [
    {
     "name": "stdout",
     "output_type": "stream",
     "text": [
      "Usted vivio unos: 8760, Dias 210240, Horas y 12614400 Minutos\n"
     ]
    }
   ],
   "source": [
    "Edad_1= int(input(\"Ingrese su edad\"))\n",
    "\n",
    "print(f\"Usted vivio unos: {Edad_1*365}, Dias {Edad_1*365*24}, Horas y {Edad_1*365*24*60} Minutos\")"
   ]
  },
  {
   "cell_type": "markdown",
   "metadata": {},
   "source": [
    "18) Crea un programa que verifique si un número ingresado por el usuario es múltiplo de 4 y de 6 al mismo tiempo."
   ]
  },
  {
   "cell_type": "code",
   "execution_count": 3,
   "metadata": {},
   "outputs": [
    {
     "name": "stdout",
     "output_type": "stream",
     "text": [
      "El número ingresado es múltiplo de 4 y de 6 al mismo tiempo?: True\n"
     ]
    }
   ],
   "source": [
    "Numero_3= int(input(\"Ingrese un número: \"))\n",
    "print(f\"El número ingresado es múltiplo de 4 y de 6 al mismo tiempo?: {Numero_3%4==0 and Numero_3%6==0}\")"
   ]
  },
  {
   "cell_type": "markdown",
   "metadata": {},
   "source": [
    "19) "
   ]
  }
 ],
 "metadata": {
  "kernelspec": {
   "display_name": "Python 3",
   "language": "python",
   "name": "python3"
  },
  "language_info": {
   "codemirror_mode": {
    "name": "ipython",
    "version": 3
   },
   "file_extension": ".py",
   "mimetype": "text/x-python",
   "name": "python",
   "nbconvert_exporter": "python",
   "pygments_lexer": "ipython3",
   "version": "3.12.2"
  }
 },
 "nbformat": 4,
 "nbformat_minor": 2
}
